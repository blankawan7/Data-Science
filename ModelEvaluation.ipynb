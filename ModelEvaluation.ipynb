{
 "cells": [
  {
   "cell_type": "markdown",
   "metadata": {},
   "source": [
    "---\n",
    "\n",
    "_You are currently looking at **version 1.0** of this notebook. To download notebooks and datafiles, as well as get help on Jupyter notebooks in the Coursera platform, visit the [Jupyter Notebook FAQ](https://www.coursera.org/learn/python-machine-learning/resources/bANLa) course resource._\n",
    "\n",
    "---"
   ]
  },
  {
   "cell_type": "markdown",
   "metadata": {
    "collapsed": true
   },
   "source": [
    "# Applied Machine Learning: Module 3 (Evaluation)"
   ]
  },
  {
   "cell_type": "markdown",
   "metadata": {},
   "source": [
    "## Evaluation for Classification"
   ]
  },
  {
   "cell_type": "markdown",
   "metadata": {},
   "source": [
    "### Preamble"
   ]
  },
  {
   "cell_type": "code",
   "execution_count": 2,
   "metadata": {},
   "outputs": [
    {
     "name": "stdout",
     "output_type": "stream",
     "text": [
      "0 178\n",
      "1 182\n",
      "2 177\n",
      "3 183\n",
      "4 181\n",
      "5 182\n",
      "6 181\n",
      "7 179\n",
      "8 174\n",
      "9 180\n"
     ]
    }
   ],
   "source": [
    "%matplotlib notebook\n",
    "import numpy as np\n",
    "import pandas as pd\n",
    "import seaborn as sns\n",
    "import matplotlib.pyplot as plt\n",
    "from sklearn.model_selection import train_test_split\n",
    "from sklearn.datasets import load_digits\n",
    "\n",
    "dataset = load_digits()\n",
    "X, y = dataset.data, dataset.target\n",
    "\n",
    "for class_name, class_count in zip(dataset.target_names, np.bincount(dataset.target)):\n",
    "    print(class_name,class_count)"
   ]
  },
  {
   "cell_type": "code",
   "execution_count": 3,
   "metadata": {},
   "outputs": [
    {
     "name": "stdout",
     "output_type": "stream",
     "text": [
      "Original labels:\t [1 2 3 4 5 6 7 8 9 0 1 2 3 4 5 6 7 8 9 0 1 2 3 4 5 6 7 8 9]\n",
      "New binary labels:\t [1 0 0 0 0 0 0 0 0 0 1 0 0 0 0 0 0 0 0 0 1 0 0 0 0 0 0 0 0]\n"
     ]
    }
   ],
   "source": [
    "# Creating a dataset with imbalanced binary classes:  \n",
    "y_binary_imbalanced = y.copy() # Positive class (1) is 'digit 1'\n",
    "y_binary_imbalanced[y_binary_imbalanced != 1] = 0 # Negative class (0) is 'not digit 1'\n",
    "print('Original labels:\\t', y[1:30])\n",
    "print('New binary labels:\\t', y_binary_imbalanced[1:30])"
   ]
  },
  {
   "cell_type": "code",
   "execution_count": 4,
   "metadata": {
    "scrolled": true
   },
   "outputs": [
    {
     "data": {
      "text/plain": [
       "array([1615,  182], dtype=int64)"
      ]
     },
     "execution_count": 4,
     "metadata": {},
     "output_type": "execute_result"
    }
   ],
   "source": [
    "np.bincount(y_binary_imbalanced)    # Negative class (0) is the most frequent class"
   ]
  },
  {
   "cell_type": "code",
   "execution_count": 8,
   "metadata": {},
   "outputs": [
    {
     "data": {
      "text/plain": [
       "0.9955555555555555"
      ]
     },
     "execution_count": 8,
     "metadata": {},
     "output_type": "execute_result"
    }
   ],
   "source": [
    "X_train, X_test, y_train, y_test = train_test_split(X, y_binary_imbalanced, random_state=0)\n",
    "\n",
    "# Accuracy of Support Vector Machine classifier\n",
    "from sklearn.svm import SVC\n",
    "\n",
    "svm = SVC(kernel='rbf', C=1).fit(X_train, y_train)\n",
    "svm.score(X_test, y_test)"
   ]
  },
  {
   "cell_type": "markdown",
   "metadata": {},
   "source": [
    "### Dummy Classifiers"
   ]
  },
  {
   "cell_type": "markdown",
   "metadata": {
    "collapsed": true
   },
   "source": [
    "DummyClassifier is a classifier that makes predictions using simple rules, which can be useful as a baseline for comparison against actual classifiers, especially with imbalanced classes."
   ]
  },
  {
   "cell_type": "code",
   "execution_count": 6,
   "metadata": {},
   "outputs": [
    {
     "data": {
      "text/plain": [
       "array([0, 0, 0, 0, 0, 0, 0, 0, 0, 0, 0, 0, 0, 0, 0, 0, 0, 0, 0, 0, 0, 0,\n",
       "       0, 0, 0, 0, 0, 0, 0, 0, 0, 0, 0, 0, 0, 0, 0, 0, 0, 0, 0, 0, 0, 0,\n",
       "       0, 0, 0, 0, 0, 0, 0, 0, 0, 0, 0, 0, 0, 0, 0, 0, 0, 0, 0, 0, 0, 0,\n",
       "       0, 0, 0, 0, 0, 0, 0, 0, 0, 0, 0, 0, 0, 0, 0, 0, 0, 0, 0, 0, 0, 0,\n",
       "       0, 0, 0, 0, 0, 0, 0, 0, 0, 0, 0, 0, 0, 0, 0, 0, 0, 0, 0, 0, 0, 0,\n",
       "       0, 0, 0, 0, 0, 0, 0, 0, 0, 0, 0, 0, 0, 0, 0, 0, 0, 0, 0, 0, 0, 0,\n",
       "       0, 0, 0, 0, 0, 0, 0, 0, 0, 0, 0, 0, 0, 0, 0, 0, 0, 0, 0, 0, 0, 0,\n",
       "       0, 0, 0, 0, 0, 0, 0, 0, 0, 0, 0, 0, 0, 0, 0, 0, 0, 0, 0, 0, 0, 0,\n",
       "       0, 0, 0, 0, 0, 0, 0, 0, 0, 0, 0, 0, 0, 0, 0, 0, 0, 0, 0, 0, 0, 0,\n",
       "       0, 0, 0, 0, 0, 0, 0, 0, 0, 0, 0, 0, 0, 0, 0, 0, 0, 0, 0, 0, 0, 0,\n",
       "       0, 0, 0, 0, 0, 0, 0, 0, 0, 0, 0, 0, 0, 0, 0, 0, 0, 0, 0, 0, 0, 0,\n",
       "       0, 0, 0, 0, 0, 0, 0, 0, 0, 0, 0, 0, 0, 0, 0, 0, 0, 0, 0, 0, 0, 0,\n",
       "       0, 0, 0, 0, 0, 0, 0, 0, 0, 0, 0, 0, 0, 0, 0, 0, 0, 0, 0, 0, 0, 0,\n",
       "       0, 0, 0, 0, 0, 0, 0, 0, 0, 0, 0, 0, 0, 0, 0, 0, 0, 0, 0, 0, 0, 0,\n",
       "       0, 0, 0, 0, 0, 0, 0, 0, 0, 0, 0, 0, 0, 0, 0, 0, 0, 0, 0, 0, 0, 0,\n",
       "       0, 0, 0, 0, 0, 0, 0, 0, 0, 0, 0, 0, 0, 0, 0, 0, 0, 0, 0, 0, 0, 0,\n",
       "       0, 0, 0, 0, 0, 0, 0, 0, 0, 0, 0, 0, 0, 0, 0, 0, 0, 0, 0, 0, 0, 0,\n",
       "       0, 0, 0, 0, 0, 0, 0, 0, 0, 0, 0, 0, 0, 0, 0, 0, 0, 0, 0, 0, 0, 0,\n",
       "       0, 0, 0, 0, 0, 0, 0, 0, 0, 0, 0, 0, 0, 0, 0, 0, 0, 0, 0, 0, 0, 0,\n",
       "       0, 0, 0, 0, 0, 0, 0, 0, 0, 0, 0, 0, 0, 0, 0, 0, 0, 0, 0, 0, 0, 0,\n",
       "       0, 0, 0, 0, 0, 0, 0, 0, 0, 0])"
      ]
     },
     "execution_count": 6,
     "metadata": {},
     "output_type": "execute_result"
    }
   ],
   "source": [
    "from sklearn.dummy import DummyClassifier\n",
    "\n",
    "# Negative class (0) is most frequent\n",
    "dummy_majority = DummyClassifier(strategy = 'most_frequent').fit(X_train, y_train)\n",
    "# Therefore the dummy 'most_frequent' classifier always predicts class 0\n",
    "y_dummy_predictions = dummy_majority.predict(X_test)\n",
    "\n",
    "y_dummy_predictions"
   ]
  },
  {
   "cell_type": "code",
   "execution_count": 7,
   "metadata": {},
   "outputs": [
    {
     "data": {
      "text/plain": [
       "0.9044444444444445"
      ]
     },
     "execution_count": 7,
     "metadata": {},
     "output_type": "execute_result"
    }
   ],
   "source": [
    "dummy_majority.score(X_test, y_test)"
   ]
  },
  {
   "cell_type": "code",
   "execution_count": null,
   "metadata": {},
   "outputs": [],
   "source": [
    "svm = SVC(kernel='linear', C=1).fit(X_train, y_train)\n",
    "svm.score(X_test, y_test)"
   ]
  },
  {
   "cell_type": "markdown",
   "metadata": {},
   "source": [
    "### Confusion matrices"
   ]
  },
  {
   "cell_type": "markdown",
   "metadata": {},
   "source": [
    "#### Binary (two-class) confusion matrix"
   ]
  },
  {
   "cell_type": "code",
   "execution_count": 9,
   "metadata": {},
   "outputs": [
    {
     "name": "stdout",
     "output_type": "stream",
     "text": [
      "Most frequent class (dummy classifier)\n",
      " [[407   0]\n",
      " [ 43   0]]\n"
     ]
    }
   ],
   "source": [
    "from sklearn.metrics import confusion_matrix\n",
    "\n",
    "# Negative class (0) is most frequent\n",
    "dummy_majority = DummyClassifier(strategy = 'most_frequent').fit(X_train, y_train)\n",
    "y_majority_predicted = dummy_majority.predict(X_test)\n",
    "confusion = confusion_matrix(y_test, y_majority_predicted)\n",
    "\n",
    "print('Most frequent class (dummy classifier)\\n', confusion)"
   ]
  },
  {
   "cell_type": "code",
   "execution_count": 10,
   "metadata": {},
   "outputs": [
    {
     "name": "stdout",
     "output_type": "stream",
     "text": [
      "Random class-proportional prediction (dummy classifier)\n",
      " [[362  45]\n",
      " [ 42   1]]\n"
     ]
    }
   ],
   "source": [
    "# produces random predictions w/ same class proportion as training set\n",
    "dummy_classprop = DummyClassifier(strategy='stratified').fit(X_train, y_train)\n",
    "y_classprop_predicted = dummy_classprop.predict(X_test)\n",
    "confusion = confusion_matrix(y_test, y_classprop_predicted)\n",
    "\n",
    "print('Random class-proportional prediction (dummy classifier)\\n', confusion)"
   ]
  },
  {
   "cell_type": "code",
   "execution_count": 11,
   "metadata": {
    "scrolled": true
   },
   "outputs": [
    {
     "name": "stdout",
     "output_type": "stream",
     "text": [
      "Support vector machine classifier (linear kernel, C=1)\n",
      " [[402   5]\n",
      " [  5  38]]\n"
     ]
    }
   ],
   "source": [
    "svm = SVC(kernel='linear', C=1).fit(X_train, y_train)\n",
    "svm_predicted = svm.predict(X_test)\n",
    "confusion = confusion_matrix(y_test, svm_predicted)\n",
    "\n",
    "print('Support vector machine classifier (linear kernel, C=1)\\n', confusion)"
   ]
  },
  {
   "cell_type": "code",
   "execution_count": 12,
   "metadata": {},
   "outputs": [
    {
     "name": "stdout",
     "output_type": "stream",
     "text": [
      "Logistic regression classifier (default settings)\n",
      " [[401   6]\n",
      " [  8  35]]\n"
     ]
    },
    {
     "name": "stderr",
     "output_type": "stream",
     "text": [
      "C:\\ProgramData\\Anaconda3\\lib\\site-packages\\sklearn\\linear_model\\_logistic.py:940: ConvergenceWarning: lbfgs failed to converge (status=1):\n",
      "STOP: TOTAL NO. of ITERATIONS REACHED LIMIT.\n",
      "\n",
      "Increase the number of iterations (max_iter) or scale the data as shown in:\n",
      "    https://scikit-learn.org/stable/modules/preprocessing.html\n",
      "Please also refer to the documentation for alternative solver options:\n",
      "    https://scikit-learn.org/stable/modules/linear_model.html#logistic-regression\n",
      "  extra_warning_msg=_LOGISTIC_SOLVER_CONVERGENCE_MSG)\n"
     ]
    }
   ],
   "source": [
    "from sklearn.linear_model import LogisticRegression\n",
    "\n",
    "lr = LogisticRegression().fit(X_train, y_train)\n",
    "lr_predicted = lr.predict(X_test)\n",
    "confusion = confusion_matrix(y_test, lr_predicted)\n",
    "\n",
    "print('Logistic regression classifier (default settings)\\n', confusion)"
   ]
  },
  {
   "cell_type": "code",
   "execution_count": 13,
   "metadata": {},
   "outputs": [
    {
     "name": "stdout",
     "output_type": "stream",
     "text": [
      "Decision tree classifier (max_depth = 2)\n",
      " [[400   7]\n",
      " [ 17  26]]\n"
     ]
    }
   ],
   "source": [
    "from sklearn.tree import DecisionTreeClassifier\n",
    "\n",
    "dt = DecisionTreeClassifier(max_depth=2).fit(X_train, y_train)\n",
    "tree_predicted = dt.predict(X_test)\n",
    "confusion = confusion_matrix(y_test, tree_predicted)\n",
    "\n",
    "print('Decision tree classifier (max_depth = 2)\\n', confusion)"
   ]
  },
  {
   "cell_type": "markdown",
   "metadata": {},
   "source": [
    "### Evaluation metrics for binary classification"
   ]
  },
  {
   "cell_type": "code",
   "execution_count": 14,
   "metadata": {},
   "outputs": [
    {
     "name": "stdout",
     "output_type": "stream",
     "text": [
      "Accuracy: 0.95\n",
      "Precision: 0.79\n",
      "Recall: 0.60\n",
      "F1: 0.68\n"
     ]
    }
   ],
   "source": [
    "from sklearn.metrics import accuracy_score, precision_score, recall_score, f1_score\n",
    "# Accuracy = TP + TN / (TP + TN + FP + FN)\n",
    "# Precision = TP / (TP + FP)\n",
    "# Recall = TP / (TP + FN)  Also known as sensitivity, or True Positive Rate\n",
    "# F1 = 2 * Precision * Recall / (Precision + Recall) \n",
    "print('Accuracy: {:.2f}'.format(accuracy_score(y_test, tree_predicted)))\n",
    "print('Precision: {:.2f}'.format(precision_score(y_test, tree_predicted)))\n",
    "print('Recall: {:.2f}'.format(recall_score(y_test, tree_predicted)))\n",
    "print('F1: {:.2f}'.format(f1_score(y_test, tree_predicted)))"
   ]
  },
  {
   "cell_type": "code",
   "execution_count": 16,
   "metadata": {},
   "outputs": [
    {
     "name": "stdout",
     "output_type": "stream",
     "text": [
      "              precision    recall  f1-score   support\n",
      "\n",
      "       Not 1       0.96      0.98      0.97       407\n",
      "           1       0.79      0.60      0.68        43\n",
      "\n",
      "    accuracy                           0.95       450\n",
      "   macro avg       0.87      0.79      0.83       450\n",
      "weighted avg       0.94      0.95      0.94       450\n",
      "\n"
     ]
    }
   ],
   "source": [
    "# Combined report with all above metrics\n",
    "from sklearn.metrics import classification_report\n",
    "\n",
    "print(classification_report(y_test, tree_predicted, target_names=['Not 1', '1']))"
   ]
  },
  {
   "cell_type": "code",
   "execution_count": 17,
   "metadata": {
    "scrolled": false
   },
   "outputs": [
    {
     "name": "stdout",
     "output_type": "stream",
     "text": [
      "Random class-proportional (dummy)\n",
      "               precision    recall  f1-score   support\n",
      "\n",
      "       not 1       0.90      0.89      0.89       407\n",
      "           1       0.02      0.02      0.02        43\n",
      "\n",
      "    accuracy                           0.81       450\n",
      "   macro avg       0.46      0.46      0.46       450\n",
      "weighted avg       0.81      0.81      0.81       450\n",
      "\n",
      "SVM\n",
      "               precision    recall  f1-score   support\n",
      "\n",
      "       not 1       0.99      0.99      0.99       407\n",
      "           1       0.88      0.88      0.88        43\n",
      "\n",
      "    accuracy                           0.98       450\n",
      "   macro avg       0.94      0.94      0.94       450\n",
      "weighted avg       0.98      0.98      0.98       450\n",
      "\n",
      "Logistic regression\n",
      "               precision    recall  f1-score   support\n",
      "\n",
      "       not 1       0.98      0.99      0.98       407\n",
      "           1       0.85      0.81      0.83        43\n",
      "\n",
      "    accuracy                           0.97       450\n",
      "   macro avg       0.92      0.90      0.91       450\n",
      "weighted avg       0.97      0.97      0.97       450\n",
      "\n",
      "Decision tree\n",
      "               precision    recall  f1-score   support\n",
      "\n",
      "       not 1       0.96      0.98      0.97       407\n",
      "           1       0.79      0.60      0.68        43\n",
      "\n",
      "    accuracy                           0.95       450\n",
      "   macro avg       0.87      0.79      0.83       450\n",
      "weighted avg       0.94      0.95      0.94       450\n",
      "\n"
     ]
    }
   ],
   "source": [
    "print('Random class-proportional (dummy)\\n', \n",
    "      classification_report(y_test, y_classprop_predicted, target_names=['not 1', '1']))\n",
    "print('SVM\\n', \n",
    "      classification_report(y_test, svm_predicted, target_names = ['not 1', '1']))\n",
    "print('Logistic regression\\n', \n",
    "      classification_report(y_test, lr_predicted, target_names = ['not 1', '1']))\n",
    "print('Decision tree\\n', \n",
    "      classification_report(y_test, tree_predicted, target_names = ['not 1', '1']))"
   ]
  },
  {
   "cell_type": "markdown",
   "metadata": {},
   "source": [
    "### Decision functions"
   ]
  },
  {
   "cell_type": "code",
   "execution_count": 18,
   "metadata": {},
   "outputs": [
    {
     "name": "stderr",
     "output_type": "stream",
     "text": [
      "C:\\ProgramData\\Anaconda3\\lib\\site-packages\\sklearn\\linear_model\\_logistic.py:940: ConvergenceWarning: lbfgs failed to converge (status=1):\n",
      "STOP: TOTAL NO. of ITERATIONS REACHED LIMIT.\n",
      "\n",
      "Increase the number of iterations (max_iter) or scale the data as shown in:\n",
      "    https://scikit-learn.org/stable/modules/preprocessing.html\n",
      "Please also refer to the documentation for alternative solver options:\n",
      "    https://scikit-learn.org/stable/modules/linear_model.html#logistic-regression\n",
      "  extra_warning_msg=_LOGISTIC_SOLVER_CONVERGENCE_MSG)\n"
     ]
    },
    {
     "data": {
      "text/plain": [
       "[(0, -29.828772009991667),\n",
       " (0, -19.382801050061957),\n",
       " (0, -29.198642696254918),\n",
       " (0, -21.746386043966467),\n",
       " (0, -22.642356868158288),\n",
       " (0, -11.805856133622399),\n",
       " (1, 6.4959992614899065),\n",
       " (0, -23.354667312206328),\n",
       " (0, -27.544163114762792),\n",
       " (0, -26.888205434887926),\n",
       " (0, -31.863221446983143),\n",
       " (0, -22.486035793478106),\n",
       " (0, -25.318055296874483),\n",
       " (0, -13.384477072076102),\n",
       " (0, -13.565675488053238),\n",
       " (0, -13.308303778707845),\n",
       " (1, 12.181083900744412),\n",
       " (0, -34.36237264138141),\n",
       " (0, -13.231580938636178),\n",
       " (0, -29.594027196661564)]"
      ]
     },
     "execution_count": 18,
     "metadata": {},
     "output_type": "execute_result"
    }
   ],
   "source": [
    "X_train, X_test, y_train, y_test = train_test_split(X, y_binary_imbalanced, random_state=0)\n",
    "y_scores_lr = lr.fit(X_train, y_train).decision_function(X_test)\n",
    "y_score_list = list(zip(y_test[0:20], y_scores_lr[0:20]))\n",
    "\n",
    "# show the decision_function scores for first 20 instances\n",
    "y_score_list"
   ]
  },
  {
   "cell_type": "code",
   "execution_count": 23,
   "metadata": {},
   "outputs": [
    {
     "name": "stderr",
     "output_type": "stream",
     "text": [
      "C:\\ProgramData\\Anaconda3\\lib\\site-packages\\sklearn\\linear_model\\_logistic.py:940: ConvergenceWarning: lbfgs failed to converge (status=1):\n",
      "STOP: TOTAL NO. of ITERATIONS REACHED LIMIT.\n",
      "\n",
      "Increase the number of iterations (max_iter) or scale the data as shown in:\n",
      "    https://scikit-learn.org/stable/modules/preprocessing.html\n",
      "Please also refer to the documentation for alternative solver options:\n",
      "    https://scikit-learn.org/stable/modules/linear_model.html#logistic-regression\n",
      "  extra_warning_msg=_LOGISTIC_SOLVER_CONVERGENCE_MSG)\n"
     ]
    },
    {
     "data": {
      "text/plain": [
       "[(0, 1.1105264686148249e-13),\n",
       " (0, 3.820818944672015e-09),\n",
       " (0, 2.0854059002182867e-13),\n",
       " (0, 3.594715626765122e-10),\n",
       " (0, 1.4674028384498448e-10),\n",
       " (0, 7.4606829899019575e-06),\n",
       " (1, 0.9984928089457435),\n",
       " (0, 7.197751680476795e-11),\n",
       " (0, 1.0907417846580064e-12),\n",
       " (0, 2.101845316534823e-12),\n",
       " (0, 1.4520405673135273e-14),\n",
       " (0, 1.7156896641113812e-10),\n",
       " (0, 1.010434792708349e-11),\n",
       " (0, 1.5388447107086222e-06),\n",
       " (0, 1.2838120115491663e-06),\n",
       " (0, 1.6606434016199439e-06),\n",
       " (1, 0.9999948735083789),\n",
       " (0, 1.1929196069321548e-15),\n",
       " (0, 1.7930674747929662e-06),\n",
       " (0, 1.4043562493363103e-13)]"
      ]
     },
     "execution_count": 23,
     "metadata": {},
     "output_type": "execute_result"
    }
   ],
   "source": [
    "X_train, X_test, y_train, y_test = train_test_split(X, y_binary_imbalanced, random_state=0)\n",
    "y_proba_lr = lr.fit(X_train, y_train).predict_proba(X_test)\n",
    "y_proba_list = list(zip(y_test[0:20], y_proba_lr[0:20,1]))\n",
    "\n",
    "# show the probability of positive class for first 20 instances\n",
    "y_proba_list"
   ]
  },
  {
   "cell_type": "markdown",
   "metadata": {},
   "source": [
    "### Precision-recall curves"
   ]
  },
  {
   "cell_type": "code",
   "execution_count": 28,
   "metadata": {},
   "outputs": [
    {
     "data": {
      "application/javascript": [
       "/* Put everything inside the global mpl namespace */\n",
       "window.mpl = {};\n",
       "\n",
       "\n",
       "mpl.get_websocket_type = function() {\n",
       "    if (typeof(WebSocket) !== 'undefined') {\n",
       "        return WebSocket;\n",
       "    } else if (typeof(MozWebSocket) !== 'undefined') {\n",
       "        return MozWebSocket;\n",
       "    } else {\n",
       "        alert('Your browser does not have WebSocket support. ' +\n",
       "              'Please try Chrome, Safari or Firefox ≥ 6. ' +\n",
       "              'Firefox 4 and 5 are also supported but you ' +\n",
       "              'have to enable WebSockets in about:config.');\n",
       "    };\n",
       "}\n",
       "\n",
       "mpl.figure = function(figure_id, websocket, ondownload, parent_element) {\n",
       "    this.id = figure_id;\n",
       "\n",
       "    this.ws = websocket;\n",
       "\n",
       "    this.supports_binary = (this.ws.binaryType != undefined);\n",
       "\n",
       "    if (!this.supports_binary) {\n",
       "        var warnings = document.getElementById(\"mpl-warnings\");\n",
       "        if (warnings) {\n",
       "            warnings.style.display = 'block';\n",
       "            warnings.textContent = (\n",
       "                \"This browser does not support binary websocket messages. \" +\n",
       "                    \"Performance may be slow.\");\n",
       "        }\n",
       "    }\n",
       "\n",
       "    this.imageObj = new Image();\n",
       "\n",
       "    this.context = undefined;\n",
       "    this.message = undefined;\n",
       "    this.canvas = undefined;\n",
       "    this.rubberband_canvas = undefined;\n",
       "    this.rubberband_context = undefined;\n",
       "    this.format_dropdown = undefined;\n",
       "\n",
       "    this.image_mode = 'full';\n",
       "\n",
       "    this.root = $('<div/>');\n",
       "    this._root_extra_style(this.root)\n",
       "    this.root.attr('style', 'display: inline-block');\n",
       "\n",
       "    $(parent_element).append(this.root);\n",
       "\n",
       "    this._init_header(this);\n",
       "    this._init_canvas(this);\n",
       "    this._init_toolbar(this);\n",
       "\n",
       "    var fig = this;\n",
       "\n",
       "    this.waiting = false;\n",
       "\n",
       "    this.ws.onopen =  function () {\n",
       "            fig.send_message(\"supports_binary\", {value: fig.supports_binary});\n",
       "            fig.send_message(\"send_image_mode\", {});\n",
       "            if (mpl.ratio != 1) {\n",
       "                fig.send_message(\"set_dpi_ratio\", {'dpi_ratio': mpl.ratio});\n",
       "            }\n",
       "            fig.send_message(\"refresh\", {});\n",
       "        }\n",
       "\n",
       "    this.imageObj.onload = function() {\n",
       "            if (fig.image_mode == 'full') {\n",
       "                // Full images could contain transparency (where diff images\n",
       "                // almost always do), so we need to clear the canvas so that\n",
       "                // there is no ghosting.\n",
       "                fig.context.clearRect(0, 0, fig.canvas.width, fig.canvas.height);\n",
       "            }\n",
       "            fig.context.drawImage(fig.imageObj, 0, 0);\n",
       "        };\n",
       "\n",
       "    this.imageObj.onunload = function() {\n",
       "        fig.ws.close();\n",
       "    }\n",
       "\n",
       "    this.ws.onmessage = this._make_on_message_function(this);\n",
       "\n",
       "    this.ondownload = ondownload;\n",
       "}\n",
       "\n",
       "mpl.figure.prototype._init_header = function() {\n",
       "    var titlebar = $(\n",
       "        '<div class=\"ui-dialog-titlebar ui-widget-header ui-corner-all ' +\n",
       "        'ui-helper-clearfix\"/>');\n",
       "    var titletext = $(\n",
       "        '<div class=\"ui-dialog-title\" style=\"width: 100%; ' +\n",
       "        'text-align: center; padding: 3px;\"/>');\n",
       "    titlebar.append(titletext)\n",
       "    this.root.append(titlebar);\n",
       "    this.header = titletext[0];\n",
       "}\n",
       "\n",
       "\n",
       "\n",
       "mpl.figure.prototype._canvas_extra_style = function(canvas_div) {\n",
       "\n",
       "}\n",
       "\n",
       "\n",
       "mpl.figure.prototype._root_extra_style = function(canvas_div) {\n",
       "\n",
       "}\n",
       "\n",
       "mpl.figure.prototype._init_canvas = function() {\n",
       "    var fig = this;\n",
       "\n",
       "    var canvas_div = $('<div/>');\n",
       "\n",
       "    canvas_div.attr('style', 'position: relative; clear: both; outline: 0');\n",
       "\n",
       "    function canvas_keyboard_event(event) {\n",
       "        return fig.key_event(event, event['data']);\n",
       "    }\n",
       "\n",
       "    canvas_div.keydown('key_press', canvas_keyboard_event);\n",
       "    canvas_div.keyup('key_release', canvas_keyboard_event);\n",
       "    this.canvas_div = canvas_div\n",
       "    this._canvas_extra_style(canvas_div)\n",
       "    this.root.append(canvas_div);\n",
       "\n",
       "    var canvas = $('<canvas/>');\n",
       "    canvas.addClass('mpl-canvas');\n",
       "    canvas.attr('style', \"left: 0; top: 0; z-index: 0; outline: 0\")\n",
       "\n",
       "    this.canvas = canvas[0];\n",
       "    this.context = canvas[0].getContext(\"2d\");\n",
       "\n",
       "    var backingStore = this.context.backingStorePixelRatio ||\n",
       "\tthis.context.webkitBackingStorePixelRatio ||\n",
       "\tthis.context.mozBackingStorePixelRatio ||\n",
       "\tthis.context.msBackingStorePixelRatio ||\n",
       "\tthis.context.oBackingStorePixelRatio ||\n",
       "\tthis.context.backingStorePixelRatio || 1;\n",
       "\n",
       "    mpl.ratio = (window.devicePixelRatio || 1) / backingStore;\n",
       "\n",
       "    var rubberband = $('<canvas/>');\n",
       "    rubberband.attr('style', \"position: absolute; left: 0; top: 0; z-index: 1;\")\n",
       "\n",
       "    var pass_mouse_events = true;\n",
       "\n",
       "    canvas_div.resizable({\n",
       "        start: function(event, ui) {\n",
       "            pass_mouse_events = false;\n",
       "        },\n",
       "        resize: function(event, ui) {\n",
       "            fig.request_resize(ui.size.width, ui.size.height);\n",
       "        },\n",
       "        stop: function(event, ui) {\n",
       "            pass_mouse_events = true;\n",
       "            fig.request_resize(ui.size.width, ui.size.height);\n",
       "        },\n",
       "    });\n",
       "\n",
       "    function mouse_event_fn(event) {\n",
       "        if (pass_mouse_events)\n",
       "            return fig.mouse_event(event, event['data']);\n",
       "    }\n",
       "\n",
       "    rubberband.mousedown('button_press', mouse_event_fn);\n",
       "    rubberband.mouseup('button_release', mouse_event_fn);\n",
       "    // Throttle sequential mouse events to 1 every 20ms.\n",
       "    rubberband.mousemove('motion_notify', mouse_event_fn);\n",
       "\n",
       "    rubberband.mouseenter('figure_enter', mouse_event_fn);\n",
       "    rubberband.mouseleave('figure_leave', mouse_event_fn);\n",
       "\n",
       "    canvas_div.on(\"wheel\", function (event) {\n",
       "        event = event.originalEvent;\n",
       "        event['data'] = 'scroll'\n",
       "        if (event.deltaY < 0) {\n",
       "            event.step = 1;\n",
       "        } else {\n",
       "            event.step = -1;\n",
       "        }\n",
       "        mouse_event_fn(event);\n",
       "    });\n",
       "\n",
       "    canvas_div.append(canvas);\n",
       "    canvas_div.append(rubberband);\n",
       "\n",
       "    this.rubberband = rubberband;\n",
       "    this.rubberband_canvas = rubberband[0];\n",
       "    this.rubberband_context = rubberband[0].getContext(\"2d\");\n",
       "    this.rubberband_context.strokeStyle = \"#000000\";\n",
       "\n",
       "    this._resize_canvas = function(width, height) {\n",
       "        // Keep the size of the canvas, canvas container, and rubber band\n",
       "        // canvas in synch.\n",
       "        canvas_div.css('width', width)\n",
       "        canvas_div.css('height', height)\n",
       "\n",
       "        canvas.attr('width', width * mpl.ratio);\n",
       "        canvas.attr('height', height * mpl.ratio);\n",
       "        canvas.attr('style', 'width: ' + width + 'px; height: ' + height + 'px;');\n",
       "\n",
       "        rubberband.attr('width', width);\n",
       "        rubberband.attr('height', height);\n",
       "    }\n",
       "\n",
       "    // Set the figure to an initial 600x600px, this will subsequently be updated\n",
       "    // upon first draw.\n",
       "    this._resize_canvas(600, 600);\n",
       "\n",
       "    // Disable right mouse context menu.\n",
       "    $(this.rubberband_canvas).bind(\"contextmenu\",function(e){\n",
       "        return false;\n",
       "    });\n",
       "\n",
       "    function set_focus () {\n",
       "        canvas.focus();\n",
       "        canvas_div.focus();\n",
       "    }\n",
       "\n",
       "    window.setTimeout(set_focus, 100);\n",
       "}\n",
       "\n",
       "mpl.figure.prototype._init_toolbar = function() {\n",
       "    var fig = this;\n",
       "\n",
       "    var nav_element = $('<div/>');\n",
       "    nav_element.attr('style', 'width: 100%');\n",
       "    this.root.append(nav_element);\n",
       "\n",
       "    // Define a callback function for later on.\n",
       "    function toolbar_event(event) {\n",
       "        return fig.toolbar_button_onclick(event['data']);\n",
       "    }\n",
       "    function toolbar_mouse_event(event) {\n",
       "        return fig.toolbar_button_onmouseover(event['data']);\n",
       "    }\n",
       "\n",
       "    for(var toolbar_ind in mpl.toolbar_items) {\n",
       "        var name = mpl.toolbar_items[toolbar_ind][0];\n",
       "        var tooltip = mpl.toolbar_items[toolbar_ind][1];\n",
       "        var image = mpl.toolbar_items[toolbar_ind][2];\n",
       "        var method_name = mpl.toolbar_items[toolbar_ind][3];\n",
       "\n",
       "        if (!name) {\n",
       "            // put a spacer in here.\n",
       "            continue;\n",
       "        }\n",
       "        var button = $('<button/>');\n",
       "        button.addClass('ui-button ui-widget ui-state-default ui-corner-all ' +\n",
       "                        'ui-button-icon-only');\n",
       "        button.attr('role', 'button');\n",
       "        button.attr('aria-disabled', 'false');\n",
       "        button.click(method_name, toolbar_event);\n",
       "        button.mouseover(tooltip, toolbar_mouse_event);\n",
       "\n",
       "        var icon_img = $('<span/>');\n",
       "        icon_img.addClass('ui-button-icon-primary ui-icon');\n",
       "        icon_img.addClass(image);\n",
       "        icon_img.addClass('ui-corner-all');\n",
       "\n",
       "        var tooltip_span = $('<span/>');\n",
       "        tooltip_span.addClass('ui-button-text');\n",
       "        tooltip_span.html(tooltip);\n",
       "\n",
       "        button.append(icon_img);\n",
       "        button.append(tooltip_span);\n",
       "\n",
       "        nav_element.append(button);\n",
       "    }\n",
       "\n",
       "    var fmt_picker_span = $('<span/>');\n",
       "\n",
       "    var fmt_picker = $('<select/>');\n",
       "    fmt_picker.addClass('mpl-toolbar-option ui-widget ui-widget-content');\n",
       "    fmt_picker_span.append(fmt_picker);\n",
       "    nav_element.append(fmt_picker_span);\n",
       "    this.format_dropdown = fmt_picker[0];\n",
       "\n",
       "    for (var ind in mpl.extensions) {\n",
       "        var fmt = mpl.extensions[ind];\n",
       "        var option = $(\n",
       "            '<option/>', {selected: fmt === mpl.default_extension}).html(fmt);\n",
       "        fmt_picker.append(option);\n",
       "    }\n",
       "\n",
       "    // Add hover states to the ui-buttons\n",
       "    $( \".ui-button\" ).hover(\n",
       "        function() { $(this).addClass(\"ui-state-hover\");},\n",
       "        function() { $(this).removeClass(\"ui-state-hover\");}\n",
       "    );\n",
       "\n",
       "    var status_bar = $('<span class=\"mpl-message\"/>');\n",
       "    nav_element.append(status_bar);\n",
       "    this.message = status_bar[0];\n",
       "}\n",
       "\n",
       "mpl.figure.prototype.request_resize = function(x_pixels, y_pixels) {\n",
       "    // Request matplotlib to resize the figure. Matplotlib will then trigger a resize in the client,\n",
       "    // which will in turn request a refresh of the image.\n",
       "    this.send_message('resize', {'width': x_pixels, 'height': y_pixels});\n",
       "}\n",
       "\n",
       "mpl.figure.prototype.send_message = function(type, properties) {\n",
       "    properties['type'] = type;\n",
       "    properties['figure_id'] = this.id;\n",
       "    this.ws.send(JSON.stringify(properties));\n",
       "}\n",
       "\n",
       "mpl.figure.prototype.send_draw_message = function() {\n",
       "    if (!this.waiting) {\n",
       "        this.waiting = true;\n",
       "        this.ws.send(JSON.stringify({type: \"draw\", figure_id: this.id}));\n",
       "    }\n",
       "}\n",
       "\n",
       "\n",
       "mpl.figure.prototype.handle_save = function(fig, msg) {\n",
       "    var format_dropdown = fig.format_dropdown;\n",
       "    var format = format_dropdown.options[format_dropdown.selectedIndex].value;\n",
       "    fig.ondownload(fig, format);\n",
       "}\n",
       "\n",
       "\n",
       "mpl.figure.prototype.handle_resize = function(fig, msg) {\n",
       "    var size = msg['size'];\n",
       "    if (size[0] != fig.canvas.width || size[1] != fig.canvas.height) {\n",
       "        fig._resize_canvas(size[0], size[1]);\n",
       "        fig.send_message(\"refresh\", {});\n",
       "    };\n",
       "}\n",
       "\n",
       "mpl.figure.prototype.handle_rubberband = function(fig, msg) {\n",
       "    var x0 = msg['x0'] / mpl.ratio;\n",
       "    var y0 = (fig.canvas.height - msg['y0']) / mpl.ratio;\n",
       "    var x1 = msg['x1'] / mpl.ratio;\n",
       "    var y1 = (fig.canvas.height - msg['y1']) / mpl.ratio;\n",
       "    x0 = Math.floor(x0) + 0.5;\n",
       "    y0 = Math.floor(y0) + 0.5;\n",
       "    x1 = Math.floor(x1) + 0.5;\n",
       "    y1 = Math.floor(y1) + 0.5;\n",
       "    var min_x = Math.min(x0, x1);\n",
       "    var min_y = Math.min(y0, y1);\n",
       "    var width = Math.abs(x1 - x0);\n",
       "    var height = Math.abs(y1 - y0);\n",
       "\n",
       "    fig.rubberband_context.clearRect(\n",
       "        0, 0, fig.canvas.width / mpl.ratio, fig.canvas.height / mpl.ratio);\n",
       "\n",
       "    fig.rubberband_context.strokeRect(min_x, min_y, width, height);\n",
       "}\n",
       "\n",
       "mpl.figure.prototype.handle_figure_label = function(fig, msg) {\n",
       "    // Updates the figure title.\n",
       "    fig.header.textContent = msg['label'];\n",
       "}\n",
       "\n",
       "mpl.figure.prototype.handle_cursor = function(fig, msg) {\n",
       "    var cursor = msg['cursor'];\n",
       "    switch(cursor)\n",
       "    {\n",
       "    case 0:\n",
       "        cursor = 'pointer';\n",
       "        break;\n",
       "    case 1:\n",
       "        cursor = 'default';\n",
       "        break;\n",
       "    case 2:\n",
       "        cursor = 'crosshair';\n",
       "        break;\n",
       "    case 3:\n",
       "        cursor = 'move';\n",
       "        break;\n",
       "    }\n",
       "    fig.rubberband_canvas.style.cursor = cursor;\n",
       "}\n",
       "\n",
       "mpl.figure.prototype.handle_message = function(fig, msg) {\n",
       "    fig.message.textContent = msg['message'];\n",
       "}\n",
       "\n",
       "mpl.figure.prototype.handle_draw = function(fig, msg) {\n",
       "    // Request the server to send over a new figure.\n",
       "    fig.send_draw_message();\n",
       "}\n",
       "\n",
       "mpl.figure.prototype.handle_image_mode = function(fig, msg) {\n",
       "    fig.image_mode = msg['mode'];\n",
       "}\n",
       "\n",
       "mpl.figure.prototype.updated_canvas_event = function() {\n",
       "    // Called whenever the canvas gets updated.\n",
       "    this.send_message(\"ack\", {});\n",
       "}\n",
       "\n",
       "// A function to construct a web socket function for onmessage handling.\n",
       "// Called in the figure constructor.\n",
       "mpl.figure.prototype._make_on_message_function = function(fig) {\n",
       "    return function socket_on_message(evt) {\n",
       "        if (evt.data instanceof Blob) {\n",
       "            /* FIXME: We get \"Resource interpreted as Image but\n",
       "             * transferred with MIME type text/plain:\" errors on\n",
       "             * Chrome.  But how to set the MIME type?  It doesn't seem\n",
       "             * to be part of the websocket stream */\n",
       "            evt.data.type = \"image/png\";\n",
       "\n",
       "            /* Free the memory for the previous frames */\n",
       "            if (fig.imageObj.src) {\n",
       "                (window.URL || window.webkitURL).revokeObjectURL(\n",
       "                    fig.imageObj.src);\n",
       "            }\n",
       "\n",
       "            fig.imageObj.src = (window.URL || window.webkitURL).createObjectURL(\n",
       "                evt.data);\n",
       "            fig.updated_canvas_event();\n",
       "            fig.waiting = false;\n",
       "            return;\n",
       "        }\n",
       "        else if (typeof evt.data === 'string' && evt.data.slice(0, 21) == \"data:image/png;base64\") {\n",
       "            fig.imageObj.src = evt.data;\n",
       "            fig.updated_canvas_event();\n",
       "            fig.waiting = false;\n",
       "            return;\n",
       "        }\n",
       "\n",
       "        var msg = JSON.parse(evt.data);\n",
       "        var msg_type = msg['type'];\n",
       "\n",
       "        // Call the  \"handle_{type}\" callback, which takes\n",
       "        // the figure and JSON message as its only arguments.\n",
       "        try {\n",
       "            var callback = fig[\"handle_\" + msg_type];\n",
       "        } catch (e) {\n",
       "            console.log(\"No handler for the '\" + msg_type + \"' message type: \", msg);\n",
       "            return;\n",
       "        }\n",
       "\n",
       "        if (callback) {\n",
       "            try {\n",
       "                // console.log(\"Handling '\" + msg_type + \"' message: \", msg);\n",
       "                callback(fig, msg);\n",
       "            } catch (e) {\n",
       "                console.log(\"Exception inside the 'handler_\" + msg_type + \"' callback:\", e, e.stack, msg);\n",
       "            }\n",
       "        }\n",
       "    };\n",
       "}\n",
       "\n",
       "// from http://stackoverflow.com/questions/1114465/getting-mouse-location-in-canvas\n",
       "mpl.findpos = function(e) {\n",
       "    //this section is from http://www.quirksmode.org/js/events_properties.html\n",
       "    var targ;\n",
       "    if (!e)\n",
       "        e = window.event;\n",
       "    if (e.target)\n",
       "        targ = e.target;\n",
       "    else if (e.srcElement)\n",
       "        targ = e.srcElement;\n",
       "    if (targ.nodeType == 3) // defeat Safari bug\n",
       "        targ = targ.parentNode;\n",
       "\n",
       "    // jQuery normalizes the pageX and pageY\n",
       "    // pageX,Y are the mouse positions relative to the document\n",
       "    // offset() returns the position of the element relative to the document\n",
       "    var x = e.pageX - $(targ).offset().left;\n",
       "    var y = e.pageY - $(targ).offset().top;\n",
       "\n",
       "    return {\"x\": x, \"y\": y};\n",
       "};\n",
       "\n",
       "/*\n",
       " * return a copy of an object with only non-object keys\n",
       " * we need this to avoid circular references\n",
       " * http://stackoverflow.com/a/24161582/3208463\n",
       " */\n",
       "function simpleKeys (original) {\n",
       "  return Object.keys(original).reduce(function (obj, key) {\n",
       "    if (typeof original[key] !== 'object')\n",
       "        obj[key] = original[key]\n",
       "    return obj;\n",
       "  }, {});\n",
       "}\n",
       "\n",
       "mpl.figure.prototype.mouse_event = function(event, name) {\n",
       "    var canvas_pos = mpl.findpos(event)\n",
       "\n",
       "    if (name === 'button_press')\n",
       "    {\n",
       "        this.canvas.focus();\n",
       "        this.canvas_div.focus();\n",
       "    }\n",
       "\n",
       "    var x = canvas_pos.x * mpl.ratio;\n",
       "    var y = canvas_pos.y * mpl.ratio;\n",
       "\n",
       "    this.send_message(name, {x: x, y: y, button: event.button,\n",
       "                             step: event.step,\n",
       "                             guiEvent: simpleKeys(event)});\n",
       "\n",
       "    /* This prevents the web browser from automatically changing to\n",
       "     * the text insertion cursor when the button is pressed.  We want\n",
       "     * to control all of the cursor setting manually through the\n",
       "     * 'cursor' event from matplotlib */\n",
       "    event.preventDefault();\n",
       "    return false;\n",
       "}\n",
       "\n",
       "mpl.figure.prototype._key_event_extra = function(event, name) {\n",
       "    // Handle any extra behaviour associated with a key event\n",
       "}\n",
       "\n",
       "mpl.figure.prototype.key_event = function(event, name) {\n",
       "\n",
       "    // Prevent repeat events\n",
       "    if (name == 'key_press')\n",
       "    {\n",
       "        if (event.which === this._key)\n",
       "            return;\n",
       "        else\n",
       "            this._key = event.which;\n",
       "    }\n",
       "    if (name == 'key_release')\n",
       "        this._key = null;\n",
       "\n",
       "    var value = '';\n",
       "    if (event.ctrlKey && event.which != 17)\n",
       "        value += \"ctrl+\";\n",
       "    if (event.altKey && event.which != 18)\n",
       "        value += \"alt+\";\n",
       "    if (event.shiftKey && event.which != 16)\n",
       "        value += \"shift+\";\n",
       "\n",
       "    value += 'k';\n",
       "    value += event.which.toString();\n",
       "\n",
       "    this._key_event_extra(event, name);\n",
       "\n",
       "    this.send_message(name, {key: value,\n",
       "                             guiEvent: simpleKeys(event)});\n",
       "    return false;\n",
       "}\n",
       "\n",
       "mpl.figure.prototype.toolbar_button_onclick = function(name) {\n",
       "    if (name == 'download') {\n",
       "        this.handle_save(this, null);\n",
       "    } else {\n",
       "        this.send_message(\"toolbar_button\", {name: name});\n",
       "    }\n",
       "};\n",
       "\n",
       "mpl.figure.prototype.toolbar_button_onmouseover = function(tooltip) {\n",
       "    this.message.textContent = tooltip;\n",
       "};\n",
       "mpl.toolbar_items = [[\"Home\", \"Reset original view\", \"fa fa-home icon-home\", \"home\"], [\"Back\", \"Back to previous view\", \"fa fa-arrow-left icon-arrow-left\", \"back\"], [\"Forward\", \"Forward to next view\", \"fa fa-arrow-right icon-arrow-right\", \"forward\"], [\"\", \"\", \"\", \"\"], [\"Pan\", \"Pan axes with left mouse, zoom with right\", \"fa fa-arrows icon-move\", \"pan\"], [\"Zoom\", \"Zoom to rectangle\", \"fa fa-square-o icon-check-empty\", \"zoom\"], [\"\", \"\", \"\", \"\"], [\"Download\", \"Download plot\", \"fa fa-floppy-o icon-save\", \"download\"]];\n",
       "\n",
       "mpl.extensions = [\"eps\", \"jpeg\", \"pdf\", \"png\", \"ps\", \"raw\", \"svg\", \"tif\"];\n",
       "\n",
       "mpl.default_extension = \"png\";var comm_websocket_adapter = function(comm) {\n",
       "    // Create a \"websocket\"-like object which calls the given IPython comm\n",
       "    // object with the appropriate methods. Currently this is a non binary\n",
       "    // socket, so there is still some room for performance tuning.\n",
       "    var ws = {};\n",
       "\n",
       "    ws.close = function() {\n",
       "        comm.close()\n",
       "    };\n",
       "    ws.send = function(m) {\n",
       "        //console.log('sending', m);\n",
       "        comm.send(m);\n",
       "    };\n",
       "    // Register the callback with on_msg.\n",
       "    comm.on_msg(function(msg) {\n",
       "        //console.log('receiving', msg['content']['data'], msg);\n",
       "        // Pass the mpl event to the overridden (by mpl) onmessage function.\n",
       "        ws.onmessage(msg['content']['data'])\n",
       "    });\n",
       "    return ws;\n",
       "}\n",
       "\n",
       "mpl.mpl_figure_comm = function(comm, msg) {\n",
       "    // This is the function which gets called when the mpl process\n",
       "    // starts-up an IPython Comm through the \"matplotlib\" channel.\n",
       "\n",
       "    var id = msg.content.data.id;\n",
       "    // Get hold of the div created by the display call when the Comm\n",
       "    // socket was opened in Python.\n",
       "    var element = $(\"#\" + id);\n",
       "    var ws_proxy = comm_websocket_adapter(comm)\n",
       "\n",
       "    function ondownload(figure, format) {\n",
       "        window.open(figure.imageObj.src);\n",
       "    }\n",
       "\n",
       "    var fig = new mpl.figure(id, ws_proxy,\n",
       "                           ondownload,\n",
       "                           element.get(0));\n",
       "\n",
       "    // Call onopen now - mpl needs it, as it is assuming we've passed it a real\n",
       "    // web socket which is closed, not our websocket->open comm proxy.\n",
       "    ws_proxy.onopen();\n",
       "\n",
       "    fig.parent_element = element.get(0);\n",
       "    fig.cell_info = mpl.find_output_cell(\"<div id='\" + id + \"'></div>\");\n",
       "    if (!fig.cell_info) {\n",
       "        console.error(\"Failed to find cell for figure\", id, fig);\n",
       "        return;\n",
       "    }\n",
       "\n",
       "    var output_index = fig.cell_info[2]\n",
       "    var cell = fig.cell_info[0];\n",
       "\n",
       "};\n",
       "\n",
       "mpl.figure.prototype.handle_close = function(fig, msg) {\n",
       "    var width = fig.canvas.width/mpl.ratio\n",
       "    fig.root.unbind('remove')\n",
       "\n",
       "    // Update the output cell to use the data from the current canvas.\n",
       "    fig.push_to_output();\n",
       "    var dataURL = fig.canvas.toDataURL();\n",
       "    // Re-enable the keyboard manager in IPython - without this line, in FF,\n",
       "    // the notebook keyboard shortcuts fail.\n",
       "    IPython.keyboard_manager.enable()\n",
       "    $(fig.parent_element).html('<img src=\"' + dataURL + '\" width=\"' + width + '\">');\n",
       "    fig.close_ws(fig, msg);\n",
       "}\n",
       "\n",
       "mpl.figure.prototype.close_ws = function(fig, msg){\n",
       "    fig.send_message('closing', msg);\n",
       "    // fig.ws.close()\n",
       "}\n",
       "\n",
       "mpl.figure.prototype.push_to_output = function(remove_interactive) {\n",
       "    // Turn the data on the canvas into data in the output cell.\n",
       "    var width = this.canvas.width/mpl.ratio\n",
       "    var dataURL = this.canvas.toDataURL();\n",
       "    this.cell_info[1]['text/html'] = '<img src=\"' + dataURL + '\" width=\"' + width + '\">';\n",
       "}\n",
       "\n",
       "mpl.figure.prototype.updated_canvas_event = function() {\n",
       "    // Tell IPython that the notebook contents must change.\n",
       "    IPython.notebook.set_dirty(true);\n",
       "    this.send_message(\"ack\", {});\n",
       "    var fig = this;\n",
       "    // Wait a second, then push the new image to the DOM so\n",
       "    // that it is saved nicely (might be nice to debounce this).\n",
       "    setTimeout(function () { fig.push_to_output() }, 1000);\n",
       "}\n",
       "\n",
       "mpl.figure.prototype._init_toolbar = function() {\n",
       "    var fig = this;\n",
       "\n",
       "    var nav_element = $('<div/>');\n",
       "    nav_element.attr('style', 'width: 100%');\n",
       "    this.root.append(nav_element);\n",
       "\n",
       "    // Define a callback function for later on.\n",
       "    function toolbar_event(event) {\n",
       "        return fig.toolbar_button_onclick(event['data']);\n",
       "    }\n",
       "    function toolbar_mouse_event(event) {\n",
       "        return fig.toolbar_button_onmouseover(event['data']);\n",
       "    }\n",
       "\n",
       "    for(var toolbar_ind in mpl.toolbar_items){\n",
       "        var name = mpl.toolbar_items[toolbar_ind][0];\n",
       "        var tooltip = mpl.toolbar_items[toolbar_ind][1];\n",
       "        var image = mpl.toolbar_items[toolbar_ind][2];\n",
       "        var method_name = mpl.toolbar_items[toolbar_ind][3];\n",
       "\n",
       "        if (!name) { continue; };\n",
       "\n",
       "        var button = $('<button class=\"btn btn-default\" href=\"#\" title=\"' + name + '\"><i class=\"fa ' + image + ' fa-lg\"></i></button>');\n",
       "        button.click(method_name, toolbar_event);\n",
       "        button.mouseover(tooltip, toolbar_mouse_event);\n",
       "        nav_element.append(button);\n",
       "    }\n",
       "\n",
       "    // Add the status bar.\n",
       "    var status_bar = $('<span class=\"mpl-message\" style=\"text-align:right; float: right;\"/>');\n",
       "    nav_element.append(status_bar);\n",
       "    this.message = status_bar[0];\n",
       "\n",
       "    // Add the close button to the window.\n",
       "    var buttongrp = $('<div class=\"btn-group inline pull-right\"></div>');\n",
       "    var button = $('<button class=\"btn btn-mini btn-primary\" href=\"#\" title=\"Stop Interaction\"><i class=\"fa fa-power-off icon-remove icon-large\"></i></button>');\n",
       "    button.click(function (evt) { fig.handle_close(fig, {}); } );\n",
       "    button.mouseover('Stop Interaction', toolbar_mouse_event);\n",
       "    buttongrp.append(button);\n",
       "    var titlebar = this.root.find($('.ui-dialog-titlebar'));\n",
       "    titlebar.prepend(buttongrp);\n",
       "}\n",
       "\n",
       "mpl.figure.prototype._root_extra_style = function(el){\n",
       "    var fig = this\n",
       "    el.on(\"remove\", function(){\n",
       "\tfig.close_ws(fig, {});\n",
       "    });\n",
       "}\n",
       "\n",
       "mpl.figure.prototype._canvas_extra_style = function(el){\n",
       "    // this is important to make the div 'focusable\n",
       "    el.attr('tabindex', 0)\n",
       "    // reach out to IPython and tell the keyboard manager to turn it's self\n",
       "    // off when our div gets focus\n",
       "\n",
       "    // location in version 3\n",
       "    if (IPython.notebook.keyboard_manager) {\n",
       "        IPython.notebook.keyboard_manager.register_events(el);\n",
       "    }\n",
       "    else {\n",
       "        // location in version 2\n",
       "        IPython.keyboard_manager.register_events(el);\n",
       "    }\n",
       "\n",
       "}\n",
       "\n",
       "mpl.figure.prototype._key_event_extra = function(event, name) {\n",
       "    var manager = IPython.notebook.keyboard_manager;\n",
       "    if (!manager)\n",
       "        manager = IPython.keyboard_manager;\n",
       "\n",
       "    // Check for shift+enter\n",
       "    if (event.shiftKey && event.which == 13) {\n",
       "        this.canvas_div.blur();\n",
       "        // select the cell after this one\n",
       "        var index = IPython.notebook.find_cell_index(this.cell_info[0]);\n",
       "        IPython.notebook.select(index + 1);\n",
       "    }\n",
       "}\n",
       "\n",
       "mpl.figure.prototype.handle_save = function(fig, msg) {\n",
       "    fig.ondownload(fig, null);\n",
       "}\n",
       "\n",
       "\n",
       "mpl.find_output_cell = function(html_output) {\n",
       "    // Return the cell and output element which can be found *uniquely* in the notebook.\n",
       "    // Note - this is a bit hacky, but it is done because the \"notebook_saving.Notebook\"\n",
       "    // IPython event is triggered only after the cells have been serialised, which for\n",
       "    // our purposes (turning an active figure into a static one), is too late.\n",
       "    var cells = IPython.notebook.get_cells();\n",
       "    var ncells = cells.length;\n",
       "    for (var i=0; i<ncells; i++) {\n",
       "        var cell = cells[i];\n",
       "        if (cell.cell_type === 'code'){\n",
       "            for (var j=0; j<cell.output_area.outputs.length; j++) {\n",
       "                var data = cell.output_area.outputs[j];\n",
       "                if (data.data) {\n",
       "                    // IPython >= 3 moved mimebundle to data attribute of output\n",
       "                    data = data.data;\n",
       "                }\n",
       "                if (data['text/html'] == html_output) {\n",
       "                    return [cell, data, j];\n",
       "                }\n",
       "            }\n",
       "        }\n",
       "    }\n",
       "}\n",
       "\n",
       "// Register the function which deals with the matplotlib target/channel.\n",
       "// The kernel may be null if the page has been refreshed.\n",
       "if (IPython.notebook.kernel != null) {\n",
       "    IPython.notebook.kernel.comm_manager.register_target('matplotlib', mpl.mpl_figure_comm);\n",
       "}\n"
      ],
      "text/plain": [
       "<IPython.core.display.Javascript object>"
      ]
     },
     "metadata": {},
     "output_type": "display_data"
    },
    {
     "data": {
      "text/html": [
       "<img src=\"data:image/png;base64,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\" width=\"640\">"
      ],
      "text/plain": [
       "<IPython.core.display.HTML object>"
      ]
     },
     "metadata": {},
     "output_type": "display_data"
    },
    {
     "name": "stderr",
     "output_type": "stream",
     "text": [
      "C:\\ProgramData\\Anaconda3\\lib\\site-packages\\ipykernel_launcher.py:15: MatplotlibDeprecationWarning: Adding an axes using the same arguments as a previous axes currently reuses the earlier instance.  In a future version, a new instance will always be created and returned.  Meanwhile, this warning can be suppressed, and the future behavior ensured, by passing a unique label to each axes instance.\n",
      "  from ipykernel import kernelapp as app\n"
     ]
    }
   ],
   "source": [
    "from sklearn.metrics import precision_recall_curve\n",
    "\n",
    "precision, recall, thresholds = precision_recall_curve(y_test, y_scores_lr)\n",
    "closest_zero = np.argmin(np.abs(thresholds))\n",
    "closest_zero_p = precision[closest_zero]\n",
    "closest_zero_r = recall[closest_zero]\n",
    "\n",
    "plt.figure()\n",
    "plt.xlim([0.0, 1.01])\n",
    "plt.ylim([0.0, 1.01])\n",
    "plt.plot(precision, recall, label='Precision-Recall Curve')\n",
    "plt.plot(closest_zero_p, closest_zero_r, 'o', markersize = 12, fillstyle = 'none', c='r', mew=3)\n",
    "plt.xlabel('Precision', fontsize=16)\n",
    "plt.ylabel('Recall', fontsize=16)\n",
    "plt.axes().set_aspect('equal')\n",
    "plt.show()"
   ]
  },
  {
   "cell_type": "markdown",
   "metadata": {},
   "source": [
    "### ROC curves, Area-Under-Curve (AUC)"
   ]
  },
  {
   "cell_type": "code",
   "execution_count": null,
   "metadata": {},
   "outputs": [],
   "source": [
    "from sklearn.metrics import roc_curve, auc\n",
    "\n",
    "X_train, X_test, y_train, y_test = train_test_split(X, y_binary_imbalanced, random_state=0)\n",
    "\n",
    "y_score_lr = lr.fit(X_train, y_train).decision_function(X_test)\n",
    "fpr_lr, tpr_lr, _ = roc_curve(y_test, y_score_lr)\n",
    "roc_auc_lr = auc(fpr_lr, tpr_lr)\n",
    "\n",
    "plt.figure()\n",
    "plt.xlim([-0.01, 1.00])\n",
    "plt.ylim([-0.01, 1.01])\n",
    "plt.plot(fpr_lr, tpr_lr, lw=3, label='LogRegr ROC curve (area = {:0.2f})'.format(roc_auc_lr))\n",
    "plt.xlabel('False Positive Rate', fontsize=16)\n",
    "plt.ylabel('True Positive Rate', fontsize=16)\n",
    "plt.title('ROC curve (1-of-10 digits classifier)', fontsize=16)\n",
    "plt.legend(loc='lower right', fontsize=13)\n",
    "plt.plot([0, 1], [0, 1], color='navy', lw=3, linestyle='--')\n",
    "plt.axes().set_aspect('equal')\n",
    "plt.show()"
   ]
  },
  {
   "cell_type": "code",
   "execution_count": null,
   "metadata": {
    "scrolled": false
   },
   "outputs": [],
   "source": [
    "from matplotlib import cm\n",
    "\n",
    "X_train, X_test, y_train, y_test = train_test_split(X, y_binary_imbalanced, random_state=0)\n",
    "\n",
    "plt.figure()\n",
    "plt.xlim([-0.01, 1.00])\n",
    "plt.ylim([-0.01, 1.01])\n",
    "for g in [0.01, 0.1, 0.20, 1]:\n",
    "    svm = SVC(gamma=g).fit(X_train, y_train)\n",
    "    y_score_svm = svm.decision_function(X_test)\n",
    "    fpr_svm, tpr_svm, _ = roc_curve(y_test, y_score_svm)\n",
    "    roc_auc_svm = auc(fpr_svm, tpr_svm)\n",
    "    accuracy_svm = svm.score(X_test, y_test)\n",
    "    print(\"gamma = {:.2f}  accuracy = {:.2f}   AUC = {:.2f}\".format(g, accuracy_svm, \n",
    "                                                                    roc_auc_svm))\n",
    "    plt.plot(fpr_svm, tpr_svm, lw=3, alpha=0.7, \n",
    "             label='SVM (gamma = {:0.2f}, area = {:0.2f})'.format(g, roc_auc_svm))\n",
    "\n",
    "plt.xlabel('False Positive Rate', fontsize=16)\n",
    "plt.ylabel('True Positive Rate (Recall)', fontsize=16)\n",
    "plt.plot([0, 1], [0, 1], color='k', lw=0.5, linestyle='--')\n",
    "plt.legend(loc=\"lower right\", fontsize=11)\n",
    "plt.title('ROC curve: (1-of-10 digits classifier)', fontsize=16)\n",
    "plt.axes().set_aspect('equal')\n",
    "\n",
    "plt.show()"
   ]
  },
  {
   "cell_type": "markdown",
   "metadata": {},
   "source": [
    "### Evaluation measures for multi-class classification"
   ]
  },
  {
   "cell_type": "markdown",
   "metadata": {},
   "source": [
    "#### Multi-class confusion matrix"
   ]
  },
  {
   "cell_type": "code",
   "execution_count": null,
   "metadata": {
    "scrolled": false
   },
   "outputs": [],
   "source": [
    "dataset = load_digits()\n",
    "X, y = dataset.data, dataset.target\n",
    "X_train_mc, X_test_mc, y_train_mc, y_test_mc = train_test_split(X, y, random_state=0)\n",
    "\n",
    "\n",
    "svm = SVC(kernel = 'linear').fit(X_train_mc, y_train_mc)\n",
    "svm_predicted_mc = svm.predict(X_test_mc)\n",
    "confusion_mc = confusion_matrix(y_test_mc, svm_predicted_mc)\n",
    "df_cm = pd.DataFrame(confusion_mc, \n",
    "                     index = [i for i in range(0,10)], columns = [i for i in range(0,10)])\n",
    "\n",
    "plt.figure(figsize=(5.5,4))\n",
    "sns.heatmap(df_cm, annot=True)\n",
    "plt.title('SVM Linear Kernel \\nAccuracy:{0:.3f}'.format(accuracy_score(y_test_mc, \n",
    "                                                                       svm_predicted_mc)))\n",
    "plt.ylabel('True label')\n",
    "plt.xlabel('Predicted label')\n",
    "\n",
    "\n",
    "svm = SVC(kernel = 'rbf').fit(X_train_mc, y_train_mc)\n",
    "svm_predicted_mc = svm.predict(X_test_mc)\n",
    "confusion_mc = confusion_matrix(y_test_mc, svm_predicted_mc)\n",
    "df_cm = pd.DataFrame(confusion_mc, index = [i for i in range(0,10)],\n",
    "                  columns = [i for i in range(0,10)])\n",
    "\n",
    "plt.figure(figsize = (5.5,4))\n",
    "sns.heatmap(df_cm, annot=True)\n",
    "plt.title('SVM RBF Kernel \\nAccuracy:{0:.3f}'.format(accuracy_score(y_test_mc, \n",
    "                                                                    svm_predicted_mc)))\n",
    "plt.ylabel('True label')\n",
    "plt.xlabel('Predicted label');"
   ]
  },
  {
   "cell_type": "markdown",
   "metadata": {},
   "source": [
    "#### Multi-class classification report"
   ]
  },
  {
   "cell_type": "code",
   "execution_count": null,
   "metadata": {},
   "outputs": [],
   "source": [
    "print(classification_report(y_test_mc, svm_predicted_mc))"
   ]
  },
  {
   "cell_type": "markdown",
   "metadata": {},
   "source": [
    "#### Micro- vs. macro-averaged metrics"
   ]
  },
  {
   "cell_type": "code",
   "execution_count": null,
   "metadata": {},
   "outputs": [],
   "source": [
    "print('Micro-averaged precision = {:.2f} (treat instances equally)'\n",
    "      .format(precision_score(y_test_mc, svm_predicted_mc, average = 'micro')))\n",
    "print('Macro-averaged precision = {:.2f} (treat classes equally)'\n",
    "      .format(precision_score(y_test_mc, svm_predicted_mc, average = 'macro')))"
   ]
  },
  {
   "cell_type": "code",
   "execution_count": null,
   "metadata": {},
   "outputs": [],
   "source": [
    "print('Micro-averaged f1 = {:.2f} (treat instances equally)'\n",
    "      .format(f1_score(y_test_mc, svm_predicted_mc, average = 'micro')))\n",
    "print('Macro-averaged f1 = {:.2f} (treat classes equally)'\n",
    "      .format(f1_score(y_test_mc, svm_predicted_mc, average = 'macro')))"
   ]
  },
  {
   "cell_type": "markdown",
   "metadata": {},
   "source": [
    "### Regression evaluation metrics"
   ]
  },
  {
   "cell_type": "code",
   "execution_count": null,
   "metadata": {},
   "outputs": [],
   "source": [
    "%matplotlib notebook\n",
    "import matplotlib.pyplot as plt\n",
    "import numpy as np\n",
    "from sklearn.model_selection import train_test_split\n",
    "from sklearn import datasets\n",
    "from sklearn.linear_model import LinearRegression\n",
    "from sklearn.metrics import mean_squared_error, r2_score\n",
    "from sklearn.dummy import DummyRegressor\n",
    "\n",
    "diabetes = datasets.load_diabetes()\n",
    "\n",
    "X = diabetes.data[:, None, 6]\n",
    "y = diabetes.target\n",
    "\n",
    "X_train, X_test, y_train, y_test = train_test_split(X, y, random_state=0)\n",
    "\n",
    "lm = LinearRegression().fit(X_train, y_train)\n",
    "lm_dummy_mean = DummyRegressor(strategy = 'mean').fit(X_train, y_train)\n",
    "\n",
    "y_predict = lm.predict(X_test)\n",
    "y_predict_dummy_mean = lm_dummy_mean.predict(X_test)\n",
    "\n",
    "print('Linear model, coefficients: ', lm.coef_)\n",
    "print(\"Mean squared error (dummy): {:.2f}\".format(mean_squared_error(y_test, \n",
    "                                                                     y_predict_dummy_mean)))\n",
    "print(\"Mean squared error (linear model): {:.2f}\".format(mean_squared_error(y_test, y_predict)))\n",
    "print(\"r2_score (dummy): {:.2f}\".format(r2_score(y_test, y_predict_dummy_mean)))\n",
    "print(\"r2_score (linear model): {:.2f}\".format(r2_score(y_test, y_predict)))\n",
    "\n",
    "# Plot outputs\n",
    "plt.scatter(X_test, y_test,  color='black')\n",
    "plt.plot(X_test, y_predict, color='green', linewidth=2)\n",
    "plt.plot(X_test, y_predict_dummy_mean, color='red', linestyle = 'dashed', \n",
    "         linewidth=2, label = 'dummy')\n",
    "\n",
    "plt.show()"
   ]
  },
  {
   "cell_type": "markdown",
   "metadata": {},
   "source": [
    "### Model selection using evaluation metrics"
   ]
  },
  {
   "cell_type": "markdown",
   "metadata": {},
   "source": [
    "#### Cross-validation example"
   ]
  },
  {
   "cell_type": "code",
   "execution_count": null,
   "metadata": {},
   "outputs": [],
   "source": [
    "from sklearn.model_selection import cross_val_score\n",
    "from sklearn.svm import SVC\n",
    "\n",
    "dataset = load_digits()\n",
    "# again, making this a binary problem with 'digit 1' as positive class \n",
    "# and 'not 1' as negative class\n",
    "X, y = dataset.data, dataset.target == 1\n",
    "clf = SVC(kernel='linear', C=1)\n",
    "\n",
    "# accuracy is the default scoring metric\n",
    "print('Cross-validation (accuracy)', cross_val_score(clf, X, y, cv=5))\n",
    "# use AUC as scoring metric\n",
    "print('Cross-validation (AUC)', cross_val_score(clf, X, y, cv=5, scoring = 'roc_auc'))\n",
    "# use recall as scoring metric\n",
    "print('Cross-validation (recall)', cross_val_score(clf, X, y, cv=5, scoring = 'recall'))"
   ]
  },
  {
   "cell_type": "markdown",
   "metadata": {},
   "source": [
    "#### Grid search example"
   ]
  },
  {
   "cell_type": "code",
   "execution_count": null,
   "metadata": {},
   "outputs": [],
   "source": [
    "from sklearn.svm import SVC\n",
    "from sklearn.model_selection import GridSearchCV\n",
    "from sklearn.metrics import roc_auc_score\n",
    "\n",
    "dataset = load_digits()\n",
    "X, y = dataset.data, dataset.target == 1\n",
    "X_train, X_test, y_train, y_test = train_test_split(X, y, random_state=0)\n",
    "\n",
    "clf = SVC(kernel='rbf')\n",
    "grid_values = {'gamma': [0.001, 0.01, 0.05, 0.1, 1, 10, 100]}\n",
    "\n",
    "# default metric to optimize over grid parameters: accuracy\n",
    "grid_clf_acc = GridSearchCV(clf, param_grid = grid_values)\n",
    "grid_clf_acc.fit(X_train, y_train)\n",
    "y_decision_fn_scores_acc = grid_clf_acc.decision_function(X_test) \n",
    "\n",
    "print('Grid best parameter (max. accuracy): ', grid_clf_acc.best_params_)\n",
    "print('Grid best score (accuracy): ', grid_clf_acc.best_score_)\n",
    "\n",
    "# alternative metric to optimize over grid parameters: AUC\n",
    "grid_clf_auc = GridSearchCV(clf, param_grid = grid_values, scoring = 'roc_auc')\n",
    "grid_clf_auc.fit(X_train, y_train)\n",
    "y_decision_fn_scores_auc = grid_clf_auc.decision_function(X_test) \n",
    "\n",
    "print('Test set AUC: ', roc_auc_score(y_test, y_decision_fn_scores_auc))\n",
    "print('Grid best parameter (max. AUC): ', grid_clf_auc.best_params_)\n",
    "print('Grid best score (AUC): ', grid_clf_auc.best_score_)\n"
   ]
  },
  {
   "cell_type": "markdown",
   "metadata": {},
   "source": [
    "#### Evaluation metrics supported for model selection"
   ]
  },
  {
   "cell_type": "code",
   "execution_count": null,
   "metadata": {},
   "outputs": [],
   "source": [
    "from sklearn.metrics.scorer import SCORERS\n",
    "\n",
    "print(sorted(list(SCORERS.keys())))"
   ]
  },
  {
   "cell_type": "markdown",
   "metadata": {},
   "source": [
    "### Two-feature classification example using the digits dataset"
   ]
  },
  {
   "cell_type": "markdown",
   "metadata": {},
   "source": [
    "#### Optimizing a classifier using different evaluation metrics"
   ]
  },
  {
   "cell_type": "code",
   "execution_count": null,
   "metadata": {
    "scrolled": false
   },
   "outputs": [],
   "source": [
    "from sklearn.datasets import load_digits\n",
    "from sklearn.model_selection import train_test_split\n",
    "from adspy_shared_utilities import plot_class_regions_for_classifier_subplot\n",
    "from sklearn.svm import SVC\n",
    "from sklearn.model_selection import GridSearchCV\n",
    "\n",
    "\n",
    "dataset = load_digits()\n",
    "X, y = dataset.data, dataset.target == 1\n",
    "X_train, X_test, y_train, y_test = train_test_split(X, y, random_state=0)\n",
    "\n",
    "# Create a two-feature input vector matching the example plot above\n",
    "# We jitter the points (add a small amount of random noise) in case there are areas\n",
    "# in feature space where many instances have the same features.\n",
    "jitter_delta = 0.25\n",
    "X_twovar_train = X_train[:,[20,59]]+ np.random.rand(X_train.shape[0], 2) - jitter_delta\n",
    "X_twovar_test  = X_test[:,[20,59]] + np.random.rand(X_test.shape[0], 2) - jitter_delta\n",
    "\n",
    "clf = SVC(kernel = 'linear').fit(X_twovar_train, y_train)\n",
    "grid_values = {'class_weight':['balanced', {1:2},{1:3},{1:4},{1:5},{1:10},{1:20},{1:50}]}\n",
    "plt.figure(figsize=(9,6))\n",
    "for i, eval_metric in enumerate(('precision','recall', 'f1','roc_auc')):\n",
    "    grid_clf_custom = GridSearchCV(clf, param_grid=grid_values, scoring=eval_metric)\n",
    "    grid_clf_custom.fit(X_twovar_train, y_train)\n",
    "    print('Grid best parameter (max. {0}): {1}'\n",
    "          .format(eval_metric, grid_clf_custom.best_params_))\n",
    "    print('Grid best score ({0}): {1}'\n",
    "          .format(eval_metric, grid_clf_custom.best_score_))\n",
    "    plt.subplots_adjust(wspace=0.3, hspace=0.3)\n",
    "    plot_class_regions_for_classifier_subplot(grid_clf_custom, X_twovar_test, y_test, None,\n",
    "                                             None, None,  plt.subplot(2, 2, i+1))\n",
    "    \n",
    "    plt.title(eval_metric+'-oriented SVC')\n",
    "plt.tight_layout()\n",
    "plt.show()"
   ]
  },
  {
   "cell_type": "markdown",
   "metadata": {},
   "source": [
    "#### Precision-recall curve for the default SVC classifier (with balanced class weights)"
   ]
  },
  {
   "cell_type": "code",
   "execution_count": null,
   "metadata": {
    "scrolled": false
   },
   "outputs": [],
   "source": [
    "from sklearn.model_selection import train_test_split\n",
    "from sklearn.metrics import precision_recall_curve\n",
    "from adspy_shared_utilities import plot_class_regions_for_classifier\n",
    "from sklearn.svm import SVC\n",
    "\n",
    "dataset = load_digits()\n",
    "X, y = dataset.data, dataset.target == 1\n",
    "X_train, X_test, y_train, y_test = train_test_split(X, y, random_state=0)\n",
    "\n",
    "# create a two-feature input vector matching the example plot above\n",
    "jitter_delta = 0.25\n",
    "X_twovar_train = X_train[:,[20,59]]+ np.random.rand(X_train.shape[0], 2) - jitter_delta\n",
    "X_twovar_test  = X_test[:,[20,59]] + np.random.rand(X_test.shape[0], 2) - jitter_delta\n",
    "\n",
    "clf = SVC(kernel='linear', class_weight='balanced').fit(X_twovar_train, y_train)\n",
    "\n",
    "y_scores = clf.decision_function(X_twovar_test)\n",
    "\n",
    "precision, recall, thresholds = precision_recall_curve(y_test, y_scores)\n",
    "closest_zero = np.argmin(np.abs(thresholds))\n",
    "closest_zero_p = precision[closest_zero]\n",
    "closest_zero_r = recall[closest_zero]\n",
    "\n",
    "plot_class_regions_for_classifier(clf, X_twovar_test, y_test)\n",
    "plt.title(\"SVC, class_weight = 'balanced', optimized for accuracy\")\n",
    "plt.show()\n",
    "\n",
    "plt.figure()\n",
    "plt.xlim([0.0, 1.01])\n",
    "plt.ylim([0.0, 1.01])\n",
    "plt.title (\"Precision-recall curve: SVC, class_weight = 'balanced'\")\n",
    "plt.plot(precision, recall, label = 'Precision-Recall Curve')\n",
    "plt.plot(closest_zero_p, closest_zero_r, 'o', markersize=12, fillstyle='none', c='r', mew=3)\n",
    "plt.xlabel('Precision', fontsize=16)\n",
    "plt.ylabel('Recall', fontsize=16)\n",
    "plt.axes().set_aspect('equal')\n",
    "plt.show()\n",
    "print('At zero threshold, precision: {:.2f}, recall: {:.2f}'\n",
    "      .format(closest_zero_p, closest_zero_r))"
   ]
  },
  {
   "cell_type": "code",
   "execution_count": null,
   "metadata": {
    "collapsed": true
   },
   "outputs": [],
   "source": []
  }
 ],
 "metadata": {
  "anaconda-cloud": {},
  "kernelspec": {
   "display_name": "Python 3",
   "language": "python",
   "name": "python3"
  },
  "language_info": {
   "codemirror_mode": {
    "name": "ipython",
    "version": 3
   },
   "file_extension": ".py",
   "mimetype": "text/x-python",
   "name": "python",
   "nbconvert_exporter": "python",
   "pygments_lexer": "ipython3",
   "version": "3.7.6"
  }
 },
 "nbformat": 4,
 "nbformat_minor": 1
}
